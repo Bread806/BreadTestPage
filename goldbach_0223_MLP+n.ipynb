{
  "nbformat": 4,
  "nbformat_minor": 0,
  "metadata": {
    "colab": {
      "provenance": [],
      "authorship_tag": "ABX9TyMircyEF+mG6Y289k02j42L",
      "include_colab_link": true
    },
    "kernelspec": {
      "name": "python3",
      "display_name": "Python 3"
    },
    "language_info": {
      "name": "python"
    }
  },
  "cells": [
    {
      "cell_type": "markdown",
      "metadata": {
        "id": "view-in-github",
        "colab_type": "text"
      },
      "source": [
        "<a href=\"https://colab.research.google.com/github/Bread806/BreadTestPage/blob/main/goldbach_0223_MLP%2Bn.ipynb\" target=\"_parent\"><img src=\"https://colab.research.google.com/assets/colab-badge.svg\" alt=\"Open In Colab\"/></a>"
      ]
    },
    {
      "cell_type": "code",
      "source": [
        "from google.colab import drive\n",
        "drive.mount(\"/content/Drive\")"
      ],
      "metadata": {
        "colab": {
          "base_uri": "https://localhost:8080/"
        },
        "id": "JKDnfbg11dPa",
        "outputId": "91b7eead-031d-41d7-c741-6c3dd7031555"
      },
      "execution_count": null,
      "outputs": [
        {
          "output_type": "stream",
          "name": "stdout",
          "text": [
            "Mounted at /content/Drive\n"
          ]
        }
      ]
    },
    {
      "cell_type": "code",
      "source": [
        "from tensorflow.keras.layers.experimental.preprocessing import TextVectorization\n",
        "from tensorflow.keras.layers import Embedding, Dense\n",
        "from tensorflow.keras.optimizers import Adam\n",
        "from tensorflow.keras import backend as keras\n",
        "from sklearn.model_selection import train_test_split\n",
        "from tensorflow.keras.utils import to_categorical\n",
        "from tensorflow.keras.layers import Dense, Flatten\n",
        "from tensorflow.keras.models import Sequential\n",
        "import pandas as pd\n",
        "import numpy as np\n",
        "import tensorflow as tf\n",
        "import math\n",
        "from sklearn.preprocessing import StandardScaler\n",
        "\n",
        "\n",
        "def is_prime(num):\n",
        "    \"\"\"檢查一個數字是否為質數\"\"\"\n",
        "    if num <= 1:\n",
        "        return False\n",
        "    for i in range(2, int(num ** 0.5) + 1):\n",
        "        if num % i == 0:\n",
        "            return False\n",
        "    return True\n",
        "\n",
        "\n",
        "def prime_table(x):\n",
        "    \"\"\"建立小於x的質數表\"\"\"\n",
        "    primes = [num for num in range(2, x) if is_prime(num)]\n",
        "    return primes\n",
        "\n",
        "\n",
        "def convert_base_into_list(number, base, width=10):\n",
        "    result = []  # init list\n",
        "\n",
        "    for i in range(width):\n",
        "        result.append(number % base)\n",
        "        number = number // base\n",
        "    result = result[::-1]\n",
        "    return result\n",
        "\n",
        "\n",
        "def prime_to_index(primeSize, primes, number):\n",
        "    for index in range(primeSize):\n",
        "        if number == primes[index]:\n",
        "            return index\n",
        "    return -1"
      ],
      "metadata": {
        "id": "DxVObRdp_GSP"
      },
      "execution_count": 3,
      "outputs": []
    },
    {
      "cell_type": "markdown",
      "source": [
        "##loading data"
      ],
      "metadata": {
        "id": "lqu_sSlTvhjU"
      }
    },
    {
      "cell_type": "code",
      "source": [
        "# shuffle\n",
        "\n",
        "print(\"---loading data---\")\n",
        "# load data\n",
        "trainData = pd.read_csv('/content/Drive/MyDrive/實驗/goldbach/csv/traindata_DividebyG4.csv')\n",
        "trainDataNumbers = trainData['Number'].values\n",
        "trainDataLabel = trainData['Factors'].values\n",
        "print(\"---loading data done.---\")\n",
        "\n",
        "# shuffle training data\n",
        "shuffleIndices = np.random.permutation(len(trainDataNumbers))\n",
        "shuffledNumbers = trainDataNumbers[shuffleIndices]\n",
        "shuffledLabel = trainDataLabel[shuffleIndices]"
      ],
      "metadata": {
        "colab": {
          "base_uri": "https://localhost:8080/"
        },
        "id": "cSgJ97Y7vfuU",
        "outputId": "8095b58c-5698-4d6c-b6fd-9dc77e56d1a0"
      },
      "execution_count": null,
      "outputs": [
        {
          "output_type": "stream",
          "name": "stdout",
          "text": [
            "---loading data---\n",
            "---loading data done.---\n"
          ]
        }
      ]
    },
    {
      "cell_type": "markdown",
      "source": [
        "##parse feature"
      ],
      "metadata": {
        "id": "8cXMRtrpvjlT"
      }
    },
    {
      "cell_type": "code",
      "execution_count": null,
      "metadata": {
        "id": "BaEH2nRv1EY2"
      },
      "outputs": [],
      "source": [
        "mergedTrainNumber = []\n",
        "mergedTrainLabel = []\n",
        "\n",
        "for num in shuffledNumbers:\n",
        "    feature = []\n",
        "    # base(2,3,5,7) and itself\n",
        "\n",
        "    itself = [num / 2000000]\n",
        "    L = [math.log(num)]\n",
        "    feature = convert_base_into_list(num, 2)+convert_base_into_list(num, 3)+convert_base_into_list(num, 5)+convert_base_into_list(num, 7) + itself + L\n",
        "    mergedTrainNumber.append(feature)\n",
        "\n",
        "for num in shuffledLabel:\n",
        "    mergedTrainLabel.append(num)"
      ]
    },
    {
      "cell_type": "markdown",
      "source": [
        "##spit train set and val set"
      ],
      "metadata": {
        "id": "pjYpd2A8vsgo"
      }
    },
    {
      "cell_type": "code",
      "source": [
        "mergedArray = np.array(mergedTrainNumber)\n",
        "mergedLabel = np.array(mergedTrainLabel)\n",
        "\n",
        "X_train, X_val, y_train, y_val = train_test_split(mergedArray, mergedLabel, test_size=0.2, random_state=42)\n",
        "#print (X_train[0])"
      ],
      "metadata": {
        "id": "rGcwSvP6vx_F"
      },
      "execution_count": null,
      "outputs": []
    },
    {
      "cell_type": "markdown",
      "source": [
        "##start training"
      ],
      "metadata": {
        "id": "pldEtwEivzyE"
      }
    },
    {
      "cell_type": "code",
      "source": [
        "# start training\n",
        "# 清空所有\n",
        "keras.clear_session()\n",
        "\n",
        "################################################################\n",
        "\n",
        "# require gpu\n",
        "device = \"/device:GPU:0\"\n",
        "with tf.device(device):\n",
        "    print(f\"--- gpu {device} is loaded. ---\")\n",
        "    model = Sequential()\n",
        "\n",
        "    model.add(Dense(units=42, input_shape=(42,), activation='relu'))\n",
        "    model.add(Dense(units=200, activation='relu'))\n",
        "    model.add(Dense(units=200, activation='relu'))\n",
        "    model.add(Dense(units=200, activation='relu'))\n",
        "    model.add(Dense(units=200, activation='relu'))\n",
        "    model.add(Dense(units=1, activation='linear'))\n",
        "\n",
        "    print(model.summary())\n",
        "\n",
        "    # model.compile(loss='binary_crossentropy', optimizer='adam')   # train version 1\n",
        "    custom_adam_optimizer = Adam(learning_rate=0.001)\n",
        "    model.compile(loss='MSE', optimizer=custom_adam_optimizer,\n",
        "                  metrics=['accuracy'])    # train version 2\n",
        "\n",
        "    # 训练模型\n",
        "    print(\"---starting training---\")\n",
        "    trainHistory = model.fit(X_train, y_train, epochs=1000,batch_size=2048, validation_data=(X_val, y_val))\n",
        "    print(\"--------------------------------------------------------\")\n",
        "\n",
        "    # save model\n",
        "    model.save('goldbach_model_1020_400w.h5')\n",
        "print(\"model saved.\")"
      ],
      "metadata": {
        "id": "abDacXgrv13c"
      },
      "execution_count": null,
      "outputs": []
    },
    {
      "cell_type": "markdown",
      "source": [
        "# predict"
      ],
      "metadata": {
        "id": "Kf9iJZEn-cZq"
      }
    },
    {
      "cell_type": "code",
      "source": [
        "from google.colab import drive\n",
        "drive.mount(\"/content/Drive\")"
      ],
      "metadata": {
        "colab": {
          "base_uri": "https://localhost:8080/"
        },
        "id": "_nbn4CLgI-I-",
        "outputId": "f9f35ca6-1c01-48f0-9eb1-728ae3c01e55"
      },
      "execution_count": 1,
      "outputs": [
        {
          "output_type": "stream",
          "name": "stdout",
          "text": [
            "Mounted at /content/Drive\n"
          ]
        }
      ]
    },
    {
      "cell_type": "code",
      "source": [
        "# loadding prime table\n",
        "primeTable = pd.read_csv(\"/content/Drive/MyDrive/實驗/goldbach/csv/prime_table_5000000.csv\")\n",
        "primeTableNumber = primeTable[\"primes\"].values\n",
        "print (\"---loading primes table---\")"
      ],
      "metadata": {
        "colab": {
          "base_uri": "https://localhost:8080/"
        },
        "id": "0c8mDF4dJ9YC",
        "outputId": "af0939f0-7178-450f-b8c0-1349d095a729"
      },
      "execution_count": 4,
      "outputs": [
        {
          "output_type": "stream",
          "name": "stdout",
          "text": [
            "---loading primes table---\n"
          ]
        }
      ]
    },
    {
      "cell_type": "code",
      "source": [
        "## load data\n",
        "#predict\n",
        "\n",
        "from tensorflow.keras.models import load_model\n",
        "import csv\n",
        "import pandas as pd\n",
        "import numpy as np\n",
        "\n",
        "# 指定 HDF5 模型文件的路徑\n",
        "modelPath = '/content/Drive/MyDrive/實驗/model_save/goldbach_model_0222_MLPn.h5'\n",
        "\n",
        "# 使用 load_model\n",
        "model = load_model(modelPath)\n",
        "\n",
        "# load test_set and prime data\n",
        "testDataPath = '/content/Drive/MyDrive/實驗/goldbach/csv/test_set_G4_7M.csv'\n",
        "testData = pd.read_csv(testDataPath)\n",
        "testDataNumbers = testData['Number'].values\n",
        "testDataLabel = testData['Factors'].values\n",
        "testDataG4 = testData['G4'].values\n",
        "testDataPartition = testData['Partition'].values\n",
        "\n",
        "print(\"---loading test data done.---\")\n"
      ],
      "metadata": {
        "colab": {
          "base_uri": "https://localhost:8080/"
        },
        "id": "LHHJ3UKUI4Kd",
        "outputId": "a1687a21-be3e-4d66-cc31-8f1d8e8894ea"
      },
      "execution_count": 5,
      "outputs": [
        {
          "output_type": "stream",
          "name": "stdout",
          "text": [
            "---loading test data done.---\n"
          ]
        }
      ]
    },
    {
      "cell_type": "code",
      "source": [
        "# shuffle training data\n",
        "shuffleIndices = np.random.permutation(len(testDataNumbers))\n",
        "shuffledNumbers = testDataNumbers[shuffleIndices]\n",
        "shuffledLabel = testDataLabel[shuffleIndices]"
      ],
      "metadata": {
        "id": "DdLMugz5KeQJ"
      },
      "execution_count": 6,
      "outputs": []
    },
    {
      "cell_type": "code",
      "source": [
        "# generate 25 prime table\n",
        "primeTable25 = primeTableNumber[:25]\n",
        "print (primeTable25)"
      ],
      "metadata": {
        "colab": {
          "base_uri": "https://localhost:8080/"
        },
        "id": "P016SagF3Ley",
        "outputId": "7f8b672b-c8b7-4dd9-c289-36689d970099"
      },
      "execution_count": 7,
      "outputs": [
        {
          "output_type": "stream",
          "name": "stdout",
          "text": [
            "[ 2  3  5  7 11 13 17 19 23 29 31 37 41 43 47 53 59 61 67 71 73 79 83 89\n",
            " 97]\n"
          ]
        }
      ]
    },
    {
      "cell_type": "code",
      "source": [
        "# collect data\n",
        "# prepare training set\n",
        "mergedTestNumber = []\n",
        "mergedTestLabel = []\n",
        "\n",
        "for num in shuffledNumbers:\n",
        "\n",
        "    feature = []\n",
        "    # base(2,3,5,7) and itself\n",
        "\n",
        "    itself = [num / 2000000]\n",
        "    L = [math.log(num)]\n",
        "    feature = convert_base_into_list(num, 2)+convert_base_into_list(num, 3)+convert_base_into_list(num, 5)+convert_base_into_list(num, 7) + itself + L\n",
        "    mergedTestNumber.append(feature)\n",
        "\n",
        "for num in shuffledLabel:\n",
        "    mergedTestLabel.append(num)\n",
        "\n",
        "    #print(\"merge number \", num, \" is done.\")\n",
        "\n",
        "#print (mergedTrainNumber)"
      ],
      "metadata": {
        "id": "w0gtoY8mStjm"
      },
      "execution_count": 8,
      "outputs": []
    },
    {
      "cell_type": "code",
      "source": [
        "mergedArray = np.array(mergedTestNumber)\n",
        "mergedLabel = np.array(mergedTestLabel)"
      ],
      "metadata": {
        "id": "NqG32lBzKND0"
      },
      "execution_count": 9,
      "outputs": []
    },
    {
      "cell_type": "code",
      "source": [
        "evaluation = model.evaluate(mergedArray, mergedLabel)\n",
        "XNewData = testDataNumbers, testDataLabel\n",
        "print (\"Loss:\", evaluation[0])\n",
        "print (\"Accuracy:\", evaluation[1])\n",
        "print (\"##########################\")\n",
        "predictions = model.predict(mergedArray)"
      ],
      "metadata": {
        "colab": {
          "base_uri": "https://localhost:8080/"
        },
        "id": "Jn3qRRzIKwVH",
        "outputId": "f3243240-fbc2-422a-a903-9a10754fd6bb"
      },
      "execution_count": 10,
      "outputs": [
        {
          "output_type": "stream",
          "name": "stdout",
          "text": [
            "2/2 [==============================] - 0s 10ms/step - loss: 0.0202 - accuracy: 0.0000e+00\n",
            "Loss: 0.02019587904214859\n",
            "Accuracy: 0.0\n",
            "##########################\n",
            "2/2 [==============================] - 0s 6ms/step\n"
          ]
        }
      ]
    },
    {
      "cell_type": "code",
      "source": [
        "\"\"\"\n",
        "訓練是練partition跟G4的關係，所以這邊要對label 正規化 G4\n",
        "\"\"\"\n",
        "print (f\"將50筆測資正規化回G4\")\n",
        "normalizedTest = []\n",
        "normalizedPred = []\n",
        "for index in range(len(testDataLabel)):\n",
        "  normalizedTest.append(testDataLabel[index]*testDataG4[index]) # normalize ground truth\n",
        "  normalizedPred.append(predictions[index]*testDataG4[index])  # normalize predition"
      ],
      "metadata": {
        "id": "kpj8x56en-uY",
        "colab": {
          "base_uri": "https://localhost:8080/"
        },
        "outputId": "f6aafc64-b469-40fe-8e8f-0bca8d3bfff4"
      },
      "execution_count": 12,
      "outputs": [
        {
          "output_type": "stream",
          "name": "stdout",
          "text": [
            "將50筆測資正規化回G4\n"
          ]
        }
      ]
    },
    {
      "cell_type": "code",
      "source": [
        "print (f\"將50筆測資正規化回G4\")\n",
        "for index, number in enumerate(testDataNumbers):\n",
        "  print (f\"第{index}筆資料為數字:\\t{number}\\t|正確答案 = {testDataPartition[index]:05d}\\t模型預估 = {int(normalizedPred[index])}\")"
      ],
      "metadata": {
        "id": "oNLdiKSHmozC",
        "colab": {
          "base_uri": "https://localhost:8080/"
        },
        "outputId": "3a8bab01-6bfe-40ca-e67e-877a5ae22c94"
      },
      "execution_count": 13,
      "outputs": [
        {
          "output_type": "stream",
          "name": "stdout",
          "text": [
            "將50筆測資正規化回G4\n",
            "第0筆資料為數字:\t7984914\t|正確答案 = 58853\t模型預估 = 24663\n",
            "第1筆資料為數字:\t7050792\t|正確答案 = 51667\t模型預估 = 32571\n",
            "第2筆資料為數字:\t7852768\t|正確答案 = 31367\t模型預估 = 32414\n",
            "第3筆資料為數字:\t7807448\t|正確答案 = 26161\t模型預估 = 29141\n",
            "第4筆資料為數字:\t7695230\t|正確答案 = 31001\t模型預估 = 47832\n",
            "第5筆資料為數字:\t7109000\t|正確答案 = 28859\t模型預估 = 23263\n",
            "第6筆資料為數字:\t7268430\t|正確答案 = 64326\t模型預估 = 50732\n",
            "第7筆資料為數字:\t7147384\t|正確答案 = 22306\t模型預估 = 29873\n",
            "第8筆資料為數字:\t7555772\t|正確答案 = 27371\t模型預估 = 46147\n",
            "第9筆資料為數字:\t7066874\t|正確答案 = 21654\t模型預估 = 22209\n",
            "第10筆資料為數字:\t7632520\t|正確答案 = 36879\t模型預估 = 31623\n",
            "第11筆資料為數字:\t7039812\t|正確答案 = 46596\t模型預估 = 44276\n",
            "第12筆資料為數字:\t7670862\t|正確答案 = 46176\t模型預估 = 31842\n",
            "第13筆資料為數字:\t7402232\t|正確答案 = 22333\t模型預估 = 28581\n",
            "第14筆資料為數字:\t7432508\t|正確答案 = 22866\t模型預估 = 55735\n",
            "第15筆資料為數字:\t7230862\t|正確答案 = 22140\t模型預估 = 54061\n",
            "第16筆資料為數字:\t7305346\t|正確答案 = 22305\t模型預估 = 60313\n",
            "第17筆資料為數字:\t7349124\t|正確答案 = 47254\t模型預估 = 67848\n",
            "第18筆資料為數字:\t7134356\t|正確答案 = 22965\t模型預估 = 26811\n",
            "第19筆資料為數字:\t7990454\t|正確答案 = 23942\t模型預估 = 25609\n",
            "第20筆資料為數字:\t7024954\t|正確答案 = 22002\t模型預估 = 46886\n",
            "第21筆資料為數字:\t7715734\t|正確答案 = 25511\t模型預估 = 32021\n",
            "第22筆資料為數字:\t7389732\t|正確答案 = 53823\t模型預估 = 55474\n",
            "第23筆資料為數字:\t7399392\t|正確答案 = 65325\t模型預估 = 23062\n",
            "第24筆資料為數字:\t7733444\t|正確答案 = 23978\t模型預估 = 58125\n",
            "第25筆資料為數字:\t7472958\t|正確答案 = 45171\t模型預估 = 65737\n",
            "第26筆資料為數字:\t7229336\t|正確答案 = 22227\t模型預估 = 65151\n",
            "第27筆資料為數字:\t7642944\t|正確答案 = 46283\t模型預估 = 23740\n",
            "第28筆資料為數字:\t7259704\t|正確答案 = 23166\t模型預估 = 22659\n",
            "第29筆資料為數字:\t7121414\t|正確答案 = 22558\t模型預估 = 59054\n",
            "第30筆資料為數字:\t7784406\t|正確答案 = 56207\t模型預估 = 24059\n",
            "第31筆資料為數字:\t7049660\t|正確答案 = 28538\t模型預估 = 23517\n",
            "第32筆資料為數字:\t7502200\t|正確答案 = 30025\t模型預估 = 23462\n",
            "第33筆資料為數字:\t7166374\t|正確答案 = 21786\t模型預估 = 54220\n",
            "第34筆資料為數字:\t7733050\t|正確答案 = 33860\t模型預估 = 28792\n",
            "第35筆資料為數字:\t7576878\t|正確答案 = 46031\t模型預估 = 28442\n",
            "第36筆資料為數字:\t7685390\t|正確答案 = 32376\t模型預估 = 26938\n",
            "第37筆資料為數字:\t7883096\t|正確答案 = 25863\t模型預估 = 58969\n",
            "第38筆資料為數字:\t7177008\t|正確答案 = 43561\t模型預估 = 33233\n",
            "第39筆資料為數字:\t7037344\t|正確答案 = 21553\t模型預估 = 27349\n",
            "第40筆資料為數字:\t7000034\t|正確答案 = 21393\t模型預估 = 21941\n",
            "第41筆資料為數字:\t7243074\t|正確答案 = 44362\t模型預估 = 49322\n",
            "第42筆資料為數字:\t7097916\t|正確答案 = 51956\t模型預估 = 47851\n",
            "第43筆資料為數字:\t7829402\t|正確答案 = 28162\t模型預估 = 24180\n",
            "第44筆資料為數字:\t7852972\t|正確答案 = 23621\t模型預估 = 24243\n",
            "第45筆資料為數字:\t7648320\t|正確答案 = 63924\t模型預估 = 30156\n",
            "第46筆資料為數字:\t7236930\t|正確答案 = 59226\t模型預估 = 22636\n",
            "第47筆資料為數字:\t7606482\t|正確答案 = 50630\t模型預估 = 23760\n",
            "第48筆資料為數字:\t7268224\t|正確答案 = 22013\t模型預估 = 22668\n",
            "第49筆資料為數字:\t7757512\t|正確答案 = 28258\t模型預估 = 28884\n"
          ]
        },
        {
          "output_type": "stream",
          "name": "stderr",
          "text": [
            "<ipython-input-13-0f6ad44a8f98>:3: DeprecationWarning: Conversion of an array with ndim > 0 to a scalar is deprecated, and will error in future. Ensure you extract a single element from your array before performing this operation. (Deprecated NumPy 1.25.)\n",
            "  print (f\"第{index}筆資料為數字:\\t{number}\\t|正確答案 = {testDataPartition[index]:05d}\\t模型預估 = {int(normalizedPred[index])}\")\n"
          ]
        }
      ]
    },
    {
      "cell_type": "code",
      "source": [
        "def calculate_mse(predictions, targets):\n",
        "    \"\"\"\n",
        "    計算均方誤差 (MSE)\n",
        "\n",
        "    參數:\n",
        "    predictions: 預測值的列表或陣列\n",
        "    targets: 實際值的列表或陣列，與預測值對應\n",
        "\n",
        "    返回值:\n",
        "    mse: 均方誤差\n",
        "    \"\"\"\n",
        "    # 確保預測值和實際值的長度相等\n",
        "    if len(predictions) != len(targets):\n",
        "        raise ValueError(\"預測值和實際值的長度不一致\")\n",
        "\n",
        "    # 計算平方誤差\n",
        "    squared_errors = [(p - t) ** 2 for p, t in zip(predictions, targets)]\n",
        "\n",
        "    # 計算均方誤差\n",
        "    mse = sum(squared_errors) / len(predictions)\n",
        "\n",
        "    return mse\n",
        "\n",
        "\n",
        "mean = testData['Partition'].mean()\n",
        "\n",
        "#LN MSE\n",
        "MSE = int(calculate_mse(normalizedPred, testDataPartition))\n",
        "\n",
        "#MLP MSE\n",
        "RMSE= math.sqrt(MSE)\n",
        "errorRate = RMSE/mean\n",
        "\n",
        "print (f\"MSE : {MSE}\\nRMSE : {RMSE}\\nError Rate : {errorRate}  ->  {round(errorRate,7)*100}%\")"
      ],
      "metadata": {
        "id": "INctEhXo3peo",
        "colab": {
          "base_uri": "https://localhost:8080/"
        },
        "outputId": "c46a8513-c834-4ac3-d052-1e0bc0b25577"
      },
      "execution_count": 14,
      "outputs": [
        {
          "output_type": "stream",
          "name": "stdout",
          "text": [
            "MSE : 429059712\n",
            "RMSE : 20713.756588315893\n",
            "Error Rate : 0.5883219417157337  ->  58.83219%\n"
          ]
        },
        {
          "output_type": "stream",
          "name": "stderr",
          "text": [
            "<ipython-input-14-7a04c2639256>:28: DeprecationWarning: Conversion of an array with ndim > 0 to a scalar is deprecated, and will error in future. Ensure you extract a single element from your array before performing this operation. (Deprecated NumPy 1.25.)\n",
            "  MSE = int(calculate_mse(normalizedPred, testDataPartition))\n"
          ]
        }
      ]
    }
  ]
}