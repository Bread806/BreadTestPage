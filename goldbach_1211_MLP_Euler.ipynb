{
  "nbformat": 4,
  "nbformat_minor": 0,
  "metadata": {
    "colab": {
      "provenance": [],
      "authorship_tag": "ABX9TyOSr/ObxPj3zEVBhl6FGXux",
      "include_colab_link": true
    },
    "kernelspec": {
      "name": "python3",
      "display_name": "Python 3"
    },
    "language_info": {
      "name": "python"
    }
  },
  "cells": [
    {
      "cell_type": "markdown",
      "metadata": {
        "id": "view-in-github",
        "colab_type": "text"
      },
      "source": [
        "<a href=\"https://colab.research.google.com/github/Bread806/BreadTestPage/blob/main/goldbach_1211_MLP_Euler.ipynb\" target=\"_parent\"><img src=\"https://colab.research.google.com/assets/colab-badge.svg\" alt=\"Open In Colab\"/></a>"
      ]
    },
    {
      "cell_type": "markdown",
      "source": [
        "# Euler's Totient Function Values and partitions 的實驗\n",
        "leakyRelu batch_size = 1024<br>\n",
        "no normallized\n"
      ],
      "metadata": {
        "id": "O-1Ma6ex2-KZ"
      }
    },
    {
      "cell_type": "code",
      "source": [
        "from google.colab import drive\n",
        "drive.mount(\"/content/Drive\")"
      ],
      "metadata": {
        "colab": {
          "base_uri": "https://localhost:8080/",
          "height": 340
        },
        "id": "wNYcmX52zpq7",
        "outputId": "6a2b516d-3dcc-416e-8065-5ec9749e739c"
      },
      "execution_count": null,
      "outputs": [
        {
          "output_type": "error",
          "ename": "MessageError",
          "evalue": "ignored",
          "traceback": [
            "\u001b[0;31m---------------------------------------------------------------------------\u001b[0m",
            "\u001b[0;31mMessageError\u001b[0m                              Traceback (most recent call last)",
            "\u001b[0;32m<ipython-input-1-f371f6a5fb9d>\u001b[0m in \u001b[0;36m<cell line: 2>\u001b[0;34m()\u001b[0m\n\u001b[1;32m      1\u001b[0m \u001b[0;32mfrom\u001b[0m \u001b[0mgoogle\u001b[0m\u001b[0;34m.\u001b[0m\u001b[0mcolab\u001b[0m \u001b[0;32mimport\u001b[0m \u001b[0mdrive\u001b[0m\u001b[0;34m\u001b[0m\u001b[0;34m\u001b[0m\u001b[0m\n\u001b[0;32m----> 2\u001b[0;31m \u001b[0mdrive\u001b[0m\u001b[0;34m.\u001b[0m\u001b[0mmount\u001b[0m\u001b[0;34m(\u001b[0m\u001b[0;34m\"/content/Drive\"\u001b[0m\u001b[0;34m)\u001b[0m\u001b[0;34m\u001b[0m\u001b[0;34m\u001b[0m\u001b[0m\n\u001b[0m",
            "\u001b[0;32m/usr/local/lib/python3.10/dist-packages/google/colab/drive.py\u001b[0m in \u001b[0;36mmount\u001b[0;34m(mountpoint, force_remount, timeout_ms, readonly)\u001b[0m\n\u001b[1;32m    101\u001b[0m \u001b[0;32mdef\u001b[0m \u001b[0mmount\u001b[0m\u001b[0;34m(\u001b[0m\u001b[0mmountpoint\u001b[0m\u001b[0;34m,\u001b[0m \u001b[0mforce_remount\u001b[0m\u001b[0;34m=\u001b[0m\u001b[0;32mFalse\u001b[0m\u001b[0;34m,\u001b[0m \u001b[0mtimeout_ms\u001b[0m\u001b[0;34m=\u001b[0m\u001b[0;36m120000\u001b[0m\u001b[0;34m,\u001b[0m \u001b[0mreadonly\u001b[0m\u001b[0;34m=\u001b[0m\u001b[0;32mFalse\u001b[0m\u001b[0;34m)\u001b[0m\u001b[0;34m:\u001b[0m\u001b[0;34m\u001b[0m\u001b[0;34m\u001b[0m\u001b[0m\n\u001b[1;32m    102\u001b[0m   \u001b[0;34m\"\"\"Mount your Google Drive at the specified mountpoint path.\"\"\"\u001b[0m\u001b[0;34m\u001b[0m\u001b[0;34m\u001b[0m\u001b[0m\n\u001b[0;32m--> 103\u001b[0;31m   return _mount(\n\u001b[0m\u001b[1;32m    104\u001b[0m       \u001b[0mmountpoint\u001b[0m\u001b[0;34m,\u001b[0m\u001b[0;34m\u001b[0m\u001b[0;34m\u001b[0m\u001b[0m\n\u001b[1;32m    105\u001b[0m       \u001b[0mforce_remount\u001b[0m\u001b[0;34m=\u001b[0m\u001b[0mforce_remount\u001b[0m\u001b[0;34m,\u001b[0m\u001b[0;34m\u001b[0m\u001b[0;34m\u001b[0m\u001b[0m\n",
            "\u001b[0;32m/usr/local/lib/python3.10/dist-packages/google/colab/drive.py\u001b[0m in \u001b[0;36m_mount\u001b[0;34m(mountpoint, force_remount, timeout_ms, ephemeral, readonly)\u001b[0m\n\u001b[1;32m    130\u001b[0m   )\n\u001b[1;32m    131\u001b[0m   \u001b[0;32mif\u001b[0m \u001b[0mephemeral\u001b[0m\u001b[0;34m:\u001b[0m\u001b[0;34m\u001b[0m\u001b[0;34m\u001b[0m\u001b[0m\n\u001b[0;32m--> 132\u001b[0;31m     _message.blocking_request(\n\u001b[0m\u001b[1;32m    133\u001b[0m         \u001b[0;34m'request_auth'\u001b[0m\u001b[0;34m,\u001b[0m \u001b[0mrequest\u001b[0m\u001b[0;34m=\u001b[0m\u001b[0;34m{\u001b[0m\u001b[0;34m'authType'\u001b[0m\u001b[0;34m:\u001b[0m \u001b[0;34m'dfs_ephemeral'\u001b[0m\u001b[0;34m}\u001b[0m\u001b[0;34m,\u001b[0m \u001b[0mtimeout_sec\u001b[0m\u001b[0;34m=\u001b[0m\u001b[0;32mNone\u001b[0m\u001b[0;34m\u001b[0m\u001b[0;34m\u001b[0m\u001b[0m\n\u001b[1;32m    134\u001b[0m     )\n",
            "\u001b[0;32m/usr/local/lib/python3.10/dist-packages/google/colab/_message.py\u001b[0m in \u001b[0;36mblocking_request\u001b[0;34m(request_type, request, timeout_sec, parent)\u001b[0m\n\u001b[1;32m    174\u001b[0m       \u001b[0mrequest_type\u001b[0m\u001b[0;34m,\u001b[0m \u001b[0mrequest\u001b[0m\u001b[0;34m,\u001b[0m \u001b[0mparent\u001b[0m\u001b[0;34m=\u001b[0m\u001b[0mparent\u001b[0m\u001b[0;34m,\u001b[0m \u001b[0mexpect_reply\u001b[0m\u001b[0;34m=\u001b[0m\u001b[0;32mTrue\u001b[0m\u001b[0;34m\u001b[0m\u001b[0;34m\u001b[0m\u001b[0m\n\u001b[1;32m    175\u001b[0m   )\n\u001b[0;32m--> 176\u001b[0;31m   \u001b[0;32mreturn\u001b[0m \u001b[0mread_reply_from_input\u001b[0m\u001b[0;34m(\u001b[0m\u001b[0mrequest_id\u001b[0m\u001b[0;34m,\u001b[0m \u001b[0mtimeout_sec\u001b[0m\u001b[0;34m)\u001b[0m\u001b[0;34m\u001b[0m\u001b[0;34m\u001b[0m\u001b[0m\n\u001b[0m",
            "\u001b[0;32m/usr/local/lib/python3.10/dist-packages/google/colab/_message.py\u001b[0m in \u001b[0;36mread_reply_from_input\u001b[0;34m(message_id, timeout_sec)\u001b[0m\n\u001b[1;32m    101\u001b[0m     ):\n\u001b[1;32m    102\u001b[0m       \u001b[0;32mif\u001b[0m \u001b[0;34m'error'\u001b[0m \u001b[0;32min\u001b[0m \u001b[0mreply\u001b[0m\u001b[0;34m:\u001b[0m\u001b[0;34m\u001b[0m\u001b[0;34m\u001b[0m\u001b[0m\n\u001b[0;32m--> 103\u001b[0;31m         \u001b[0;32mraise\u001b[0m \u001b[0mMessageError\u001b[0m\u001b[0;34m(\u001b[0m\u001b[0mreply\u001b[0m\u001b[0;34m[\u001b[0m\u001b[0;34m'error'\u001b[0m\u001b[0;34m]\u001b[0m\u001b[0;34m)\u001b[0m\u001b[0;34m\u001b[0m\u001b[0;34m\u001b[0m\u001b[0m\n\u001b[0m\u001b[1;32m    104\u001b[0m       \u001b[0;32mreturn\u001b[0m \u001b[0mreply\u001b[0m\u001b[0;34m.\u001b[0m\u001b[0mget\u001b[0m\u001b[0;34m(\u001b[0m\u001b[0;34m'data'\u001b[0m\u001b[0;34m,\u001b[0m \u001b[0;32mNone\u001b[0m\u001b[0;34m)\u001b[0m\u001b[0;34m\u001b[0m\u001b[0;34m\u001b[0m\u001b[0m\n\u001b[1;32m    105\u001b[0m \u001b[0;34m\u001b[0m\u001b[0m\n",
            "\u001b[0;31mMessageError\u001b[0m: Error: credential propagation was unsuccessful"
          ]
        }
      ]
    },
    {
      "cell_type": "code",
      "source": [
        "from tensorflow.keras.layers.experimental.preprocessing import TextVectorization\n",
        "from tensorflow.keras.layers import Embedding, Dense\n",
        "from tensorflow.keras.optimizers import Adam\n",
        "from tensorflow.keras import backend as keras\n",
        "from sklearn.model_selection import train_test_split\n",
        "from tensorflow.keras.utils import to_categorical\n",
        "from tensorflow.keras.layers import Dense, Flatten\n",
        "from tensorflow.keras.models import Sequential\n",
        "import pandas as pd\n",
        "import numpy as np\n",
        "import tensorflow as tf\n",
        "from sklearn.preprocessing import StandardScaler\n",
        "from tensorflow.keras.layers import LayerNormalization\n",
        "from random import choice, sample\n",
        "\n",
        "\n",
        "def is_prime(num):\n",
        "    \"\"\"檢查一個數字是否為質數\"\"\"\n",
        "    if num <= 1:\n",
        "        return False\n",
        "    sqr_num = int(num ** 0.5)\n",
        "    # for i in range(2, sqr_num+ 1):\n",
        "    for i in range(2, sqr_num+ 1):\n",
        "        if num % i == 0:\n",
        "            return False\n",
        "    return True\n",
        "\n",
        "\n",
        "def prime_table(x):\n",
        "    \"\"\"建立小於x的質數表\"\"\"\n",
        "    primes = [num for num in range(2, x) if is_prime(num)]\n",
        "    return primes\n",
        "\n",
        "\n",
        "def convert_base_into_list(number, base, width=10):\n",
        "    result = []  # init list\n",
        "\n",
        "    for i in range(width):\n",
        "        result.append(number % base)\n",
        "        number = number // base\n",
        "    result = result[::-1]\n",
        "    return result\n",
        "\n",
        "\n",
        "def prime_to_index(primeSize, primes, number):\n",
        "    for index in range(primeSize):\n",
        "        if number == primes[index]:\n",
        "            return index\n",
        "    return -1\n",
        "\n",
        "def add_prime(primeTable, limit, addSize=5):\n",
        "    halfList = [num for num in primeTable if num <= int(limit//2)]\n",
        "    if len(halfList) < 5:\n",
        "      halfList += [0] * (5 - len(halfList))\n",
        "    return sample(halfList, addSize)\n",
        "\n",
        "def add_aim(index, staticFlagX):\n",
        "\n",
        "  #feature = [index-flagN for flagN in staticFlagX] + []\n",
        "  return [index-flagN for flagN in staticFlagX]\n",
        "\n",
        "def add_mod(primeTable25, num):\n",
        "  return [num%index for index in primeTable25]\n",
        "\n",
        "\n",
        "def gcd(a, b):\n",
        "    while b != 0:\n",
        "        a, b = b, a % b\n",
        "    return a\n",
        "\n",
        "def compute_coprimes(n): ## 獲得質因數 zero padding 到50\n",
        "    coprimes = []\n",
        "    lenth = 50\n",
        "    for num in range(1,n):\n",
        "        if gcd(num , n) == 1:\n",
        "            coprimes.append(num)\n",
        "        if len(coprimes) >= lenth:\n",
        "            return coprimes\n",
        "    coprimes = coprimes + [0] * (lenth - len(coprimes))\n",
        "    return coprimes"
      ],
      "metadata": {
        "id": "Veno4zyPzi57"
      },
      "execution_count": 4,
      "outputs": []
    },
    {
      "cell_type": "code",
      "execution_count": null,
      "metadata": {
        "colab": {
          "base_uri": "https://localhost:8080/"
        },
        "id": "TdPvfso6zdJ2",
        "outputId": "f5353ecc-1798-4aa8-bc17-6bd73cf7a153"
      },
      "outputs": [
        {
          "output_type": "stream",
          "name": "stdout",
          "text": [
            "---loading data---\n",
            "---loading data done.---\n"
          ]
        }
      ],
      "source": [
        "# shuffle\n",
        "\n",
        "print(\"---loading data---\")\n",
        "# load data\n",
        "trainData = pd.read_csv('/content/Drive/MyDrive/實驗/goldbach/csv/traindata_min_size_1000.csv')\n",
        "trainDataNumbers = trainData['Number'].values\n",
        "trainDataLabel = trainData['Factors'].values\n",
        "print(\"---loading data done.---\")\n",
        "\n",
        "# shuffle training data\n",
        "shuffleIndices = np.random.permutation(len(trainDataNumbers))\n",
        "shuffledNumbers = trainDataNumbers[shuffleIndices]\n",
        "shuffledLabel = trainDataLabel[shuffleIndices]"
      ]
    },
    {
      "cell_type": "code",
      "source": [
        "print (shuffledNumbers[5])\n",
        "print (shuffledLabel [5])"
      ],
      "metadata": {
        "colab": {
          "base_uri": "https://localhost:8080/"
        },
        "id": "T0VWLQPK6F7a",
        "outputId": "a6c8f93c-7e48-41de-a08c-0c55de6ab69d"
      },
      "execution_count": null,
      "outputs": [
        {
          "output_type": "stream",
          "name": "stdout",
          "text": [
            "1060210\n",
            "5725\n"
          ]
        }
      ]
    },
    {
      "cell_type": "code",
      "source": [
        "# loadding prime table\n",
        "primeTable = pd.read_csv(\"/content/Drive/MyDrive/實驗/goldbach/csv/prime_table_5000000.csv\")\n",
        "primeTableNumber = primeTable[\"primes\"].values\n",
        "print (\"---loading primes table---\")"
      ],
      "metadata": {
        "colab": {
          "base_uri": "https://localhost:8080/"
        },
        "id": "k5qpkhdJ0ZlU",
        "outputId": "d76ffcc9-fb94-459e-eac3-a6894ad81388"
      },
      "execution_count": null,
      "outputs": [
        {
          "output_type": "stream",
          "name": "stdout",
          "text": [
            "---loading primes table---\n"
          ]
        }
      ]
    },
    {
      "cell_type": "markdown",
      "source": [],
      "metadata": {
        "id": "XjDFb9Z-GlrU"
      }
    },
    {
      "cell_type": "code",
      "source": [
        "# collect data\n",
        "# prepare training set\n",
        "mergedTrainNumber = []\n",
        "mergedTrainLabel = []\n",
        "\n",
        "for num in shuffledNumbers:\n",
        "\n",
        "    # Euler's Totient Function Partitions fist 50\n",
        "    feature = []\n",
        "    feature = compute_coprimes(num)\n",
        "    mergedTrainNumber.append(feature)\n",
        "\n",
        "for num in shuffledLabel:\n",
        "    mergedTrainLabel.append(num)\n",
        "\n",
        "    print(\"merge number \", num, \" done.\")\n",
        "\n",
        "#print (mergedTrainNumber)"
      ],
      "metadata": {
        "id": "3MZY96_M0KIu"
      },
      "execution_count": null,
      "outputs": []
    },
    {
      "cell_type": "code",
      "source": [
        "mergedArray = np.array(mergedTrainNumber)\n",
        "mergedLabel = np.array(mergedTrainLabel)"
      ],
      "metadata": {
        "id": "R4v5443kK8Lq"
      },
      "execution_count": null,
      "outputs": []
    },
    {
      "cell_type": "code",
      "source": [
        "X_train, X_val, y_train, y_val = train_test_split(mergedArray, mergedLabel, test_size=0.2, random_state=42)"
      ],
      "metadata": {
        "colab": {
          "base_uri": "https://localhost:8080/"
        },
        "id": "jyTwBG1jzoK8",
        "outputId": "58c6039d-d1fb-48ac-e818-7ad7a13a2091"
      },
      "execution_count": null,
      "outputs": [
        {
          "output_type": "stream",
          "name": "stdout",
          "text": [
            "[  1   5   7  11  13  17  19  23  25  29  31  35  37  41  43  47  49  53\n",
            "  55  59  61  65  67  71  73  77  79  83  85  91  95  97 101 103 107 109\n",
            " 113 115 119 121 125 127 131 133 137 139 143 145 149 151]\n",
            "[  1   3   5   9  11  13  15  23  25  27  29  31  33  37  39  41  43  45\n",
            "  47  53  55  59  61  65  67  69  71  73  75  79  81  83  87  89  93  97\n",
            "  99 101 103 107 109 111 113 115 117 121 123 125 127 129]\n",
            "[ 1  3  5  7  9 11 13 15 17 19 21 23 25 27 29 31 33 35 37 39 41 43 45 47\n",
            " 49 51 53 55 57 59 61 63 65 67 69 71 73 75 77 79 81 83 85 87 89 91 93 95\n",
            " 97 99]\n"
          ]
        }
      ]
    },
    {
      "cell_type": "code",
      "source": [
        "# start training\n",
        "# 清空所有\n",
        "keras.clear_session()\n",
        "\n",
        "################################################################\n",
        "\n",
        "# require gpu\n",
        "device = \"/device:GPU:0\"\n",
        "with tf.device(device):\n",
        "    print(f\"--- gpu {device} is loaded. ---\")\n",
        "    model = et\n",
        "\n",
        "\n",
        "    model.add(Dense(units=50, input_shape=(50,), activation='relu'))\n",
        "    model.add(Dense(units=200, activation='relu'))\n",
        "    model.add(Dense(units=200, activation='relu'))\n",
        "    model.add(Dense(units=200, activation='relu'))\n",
        "    model.add(Dense(units=200, activation='relu'))\n",
        "    model.add(Dense(units=1, activation='linear'))\n",
        "\n",
        "    print(model.summary())\n",
        "\n",
        "    custom_adam_optimizer = Adam(learning_rate=0.001)\n",
        "    model.compile(loss='MSE', optimizer=custom_adam_optimizer,\n",
        "                  metrics=['accuracy'])    # train version 2\n",
        "\n",
        "    # train model\n",
        "    print(\"---starting training---\")\n",
        "    trainHistory = model.fit(X_train, y_train, epochs=200,batch_size=2048, validation_data=(X_val, y_val))\n",
        "    print(\"--------------------------------------------------------\")\n",
        "\n",
        "    # save model\n",
        "    model.save('./csv/goldbach_model_1112_400w.h5')\n",
        "print(\"model saved.\")\n"
      ],
      "metadata": {
        "id": "ge8BVKMTznDr"
      },
      "execution_count": null,
      "outputs": []
    },
    {
      "cell_type": "markdown",
      "source": [
        "## predict"
      ],
      "metadata": {
        "id": "hQJtQBsxISQa"
      }
    },
    {
      "cell_type": "code",
      "source": [
        "from google.colab import drive\n",
        "drive.mount(\"/content/Drive\")"
      ],
      "metadata": {
        "colab": {
          "base_uri": "https://localhost:8080/"
        },
        "id": "_nbn4CLgI-I-",
        "outputId": "447411a5-7028-4428-9a0c-042b5715fe83"
      },
      "execution_count": 1,
      "outputs": [
        {
          "output_type": "stream",
          "name": "stdout",
          "text": [
            "Mounted at /content/Drive\n"
          ]
        }
      ]
    },
    {
      "cell_type": "code",
      "source": [
        "# loadding prime table\n",
        "primeTable = pd.read_csv(\"/content/Drive/MyDrive/實驗/goldbach/csv/prime_table_5000000.csv\")\n",
        "primeTableNumber = primeTable[\"primes\"].values\n",
        "print (\"---loading primes table---\")"
      ],
      "metadata": {
        "colab": {
          "base_uri": "https://localhost:8080/"
        },
        "id": "0c8mDF4dJ9YC",
        "outputId": "6114376e-a117-481d-ad61-39149cdc49af"
      },
      "execution_count": 5,
      "outputs": [
        {
          "output_type": "stream",
          "name": "stdout",
          "text": [
            "---loading primes table---\n"
          ]
        }
      ]
    },
    {
      "cell_type": "code",
      "source": [
        "## load data\n",
        "#predict\n",
        "\n",
        "from tensorflow.keras.models import load_model\n",
        "import csv\n",
        "import pandas as pd\n",
        "import numpy as np\n",
        "\n",
        "# 指定 HDF5 模型文件的路徑\n",
        "modelPath = '/content/Drive/MyDrive/實驗/model_save/goldbach_model_1211_400w.h5'\n",
        "\n",
        "# 使用 load_model\n",
        "model = load_model(modelPath)\n",
        "\n",
        "# load test_set and prime data\n",
        "testDataPath = '/content/Drive/MyDrive/實驗/goldbach/csv/traindata_min_size_400000.csv'\n",
        "testData = pd.read_csv(testDataPath)\n",
        "testDataNumbers = testData['Number'].values\n",
        "testDataLabel = testData['Factors'].values\n",
        "\n",
        "print(\"---loading test data done.---\")"
      ],
      "metadata": {
        "colab": {
          "base_uri": "https://localhost:8080/"
        },
        "id": "LHHJ3UKUI4Kd",
        "outputId": "d017c7cb-9160-4154-d8b9-46fbbf43c753"
      },
      "execution_count": 6,
      "outputs": [
        {
          "output_type": "stream",
          "name": "stdout",
          "text": [
            "---loading test data done.---\n"
          ]
        }
      ]
    },
    {
      "cell_type": "code",
      "source": [
        "# shuffle training data\n",
        "shuffleIndices = np.random.permutation(len(testDataNumbers))\n",
        "shuffledNumbers = testDataNumbers[shuffleIndices]\n",
        "shuffledLabel = testDataLabel[shuffleIndices]"
      ],
      "metadata": {
        "id": "DdLMugz5KeQJ"
      },
      "execution_count": 7,
      "outputs": []
    },
    {
      "cell_type": "code",
      "source": [
        "# generate 25 prime table\n",
        "primeTable25 = primeTableNumber[:25]\n",
        "print (primeTable25)"
      ],
      "metadata": {
        "colab": {
          "base_uri": "https://localhost:8080/"
        },
        "id": "P016SagF3Ley",
        "outputId": "51589da4-0095-4af0-b841-41e43c621761"
      },
      "execution_count": 8,
      "outputs": [
        {
          "output_type": "stream",
          "name": "stdout",
          "text": [
            "[ 2  3  5  7 11 13 17 19 23 29 31 37 41 43 47 53 59 61 67 71 73 79 83 89\n",
            " 97]\n"
          ]
        }
      ]
    },
    {
      "cell_type": "code",
      "source": [
        "# collect data\n",
        "# prepare training set\n",
        "mergedTestNumber = []\n",
        "mergedTestLabel = []\n",
        "\n",
        "for num in shuffledNumbers:\n",
        "\n",
        "   # Euler's Totient Function Partitions fist 50\n",
        "    feature = []\n",
        "    feature = compute_coprimes(num)\n",
        "    mergedTestNumber.append(feature)\n",
        "\n",
        "for num in shuffledLabel:\n",
        "    mergedTestLabel.append(num)\n",
        "\n",
        "#print (mergedTrainNumber)"
      ],
      "metadata": {
        "id": "w0gtoY8mStjm"
      },
      "execution_count": 9,
      "outputs": []
    },
    {
      "cell_type": "code",
      "source": [
        "mergedArray = np.array(mergedTestNumber)\n",
        "mergedLabel = np.array(mergedTestLabel)"
      ],
      "metadata": {
        "id": "NqG32lBzKND0"
      },
      "execution_count": 10,
      "outputs": []
    },
    {
      "cell_type": "code",
      "source": [
        "evaluation = model.evaluate(mergedArray, mergedLabel)\n",
        "XNewData = testDataNumbers, testDataLabel\n",
        "print (\"Loss:\", evaluation[0])\n",
        "print (\"Accuracy:\", evaluation[1])\n",
        "print (\"##########################\")\n",
        "predictions = model.predict(mergedArray)"
      ],
      "metadata": {
        "colab": {
          "base_uri": "https://localhost:8080/"
        },
        "id": "Jn3qRRzIKwVH",
        "outputId": "705c74da-b6eb-4702-a47c-fba87fb86684"
      },
      "execution_count": 11,
      "outputs": [
        {
          "output_type": "stream",
          "name": "stdout",
          "text": [
            "12500/12500 [==============================] - 26s 2ms/step - loss: 35694624.0000 - accuracy: 0.0000e+00\n",
            "Loss: 35694624.0\n",
            "Accuracy: 0.0\n",
            "##########################\n",
            "12500/12500 [==============================] - 24s 2ms/step\n"
          ]
        }
      ]
    },
    {
      "cell_type": "code",
      "source": [
        "# cal MSE, RMSE, error rate\n",
        "\n",
        "import math\n",
        "\n",
        "rmse = math.sqrt(evaluation[0])\n",
        "testMean = (np.mean(testDataLabel))\n",
        "\n",
        "print (f\"MSE: {evaluation[0]}\")\n",
        "print (f\"RMSE: {rmse}\")\n",
        "print (f\"error rate: {round(rmse/testMean,3)} / ({round(rmse/testMean,3)*100}%)\")"
      ],
      "metadata": {
        "colab": {
          "base_uri": "https://localhost:8080/"
        },
        "id": "cftiPj5wU9lL",
        "outputId": "61e45094-d23f-49b5-a987-82ba06643e04"
      },
      "execution_count": 13,
      "outputs": [
        {
          "output_type": "stream",
          "name": "stdout",
          "text": [
            "MSE: 35694624.0\n",
            "RMSE: 5974.497803163041\n",
            "error rate: 0.554 / (55.400000000000006%)\n"
          ]
        }
      ]
    },
    {
      "cell_type": "code",
      "source": [
        "print (f\"測試五十筆資料\")\n",
        "roundPredictions = np.round(predictions)\n",
        "for index, number in enumerate(testDataNumbers):\n",
        "  print (f\"第{index}筆資料為數字:\\t{number}\\t|正確答案為:{testDataLabel[index]}\\t模型預估為{predictions[index]}, 四捨五入到{roundPredictions[index]}\")\n"
      ],
      "metadata": {
        "colab": {
          "base_uri": "https://localhost:8080/"
        },
        "id": "aBJHTke7LvXm",
        "outputId": "76a6565f-39ff-4086-d667-d72d673a1e9d"
      },
      "execution_count": null,
      "outputs": [
        {
          "output_type": "stream",
          "name": "stdout",
          "text": [
            "測試五十筆資料\n",
            "第0筆資料為數字:\t4234636\t|正確答案為:16566\t模型預估為[7230.2993], 四捨五入到[7230.]\n",
            "第1筆資料為數字:\t4010118\t|正確答案為:31717\t模型預估為[7230.2993], 四捨五入到[7230.]\n",
            "第2筆資料為數字:\t4291942\t|正確答案為:14594\t模型預估為[7919.961], 四捨五入到[7920.]\n",
            "第3筆資料為數字:\t4151108\t|正確答案為:14832\t模型預估為[7496.6294], 四捨五入到[7497.]\n",
            "第4筆資料為數字:\t4914148\t|正確答案為:15673\t模型預估為[7230.2993], 四捨五入到[7230.]\n",
            "第5筆資料為數字:\t4634032\t|正確答案為:16346\t模型預估為[8399.807], 四捨五入到[8400.]\n",
            "第6筆資料為數字:\t4010462\t|正確答案為:13108\t模型預估為[16679.016], 四捨五入到[16679.]\n",
            "第7筆資料為數字:\t4665262\t|正確答案為:18098\t模型預估為[7230.2993], 四捨五入到[7230.]\n",
            "第8筆資料為數字:\t4874538\t|正確答案為:31284\t模型預估為[13948.29], 四捨五入到[13948.]\n",
            "第9筆資料為數字:\t4867410\t|正確答案為:42050\t模型預估為[13948.29], 四捨五入到[13948.]\n",
            "第10筆資料為數字:\t4769998\t|正確答案為:15623\t模型預估為[19051.613], 四捨五入到[19052.]\n",
            "第11筆資料為數字:\t4550968\t|正確答案為:15886\t模型預估為[15413.846], 四捨五入到[15414.]\n",
            "第12筆資料為數字:\t4324986\t|正確答案為:28364\t模型預估為[8657.021], 四捨五入到[8657.]\n",
            "第13筆資料為數字:\t4306378\t|正確答案為:14047\t模型預估為[13948.29], 四捨五入到[13948.]\n",
            "第14筆資料為數字:\t4657756\t|正確答案為:14997\t模型預估為[7230.2993], 四捨五入到[7230.]\n",
            "第15筆資料為數字:\t4948220\t|正確答案為:22961\t模型預估為[10404.161], 四捨五入到[10404.]\n",
            "第16筆資料為數字:\t4622606\t|正確答案為:16070\t模型預估為[7230.2993], 四捨五入到[7230.]\n",
            "第17筆資料為數字:\t4037074\t|正確答案為:13302\t模型預估為[8968.159], 四捨五入到[8968.]\n",
            "第18筆資料為數字:\t4264618\t|正確答案為:13996\t模型預估為[8657.021], 四捨五入到[8657.]\n",
            "第19筆資料為數字:\t4019078\t|正確答案為:15871\t模型預估為[13948.29], 四捨五入到[13948.]\n",
            "第20筆資料為數字:\t4922464\t|正確答案為:15845\t模型預估為[13948.29], 四捨五入到[13948.]\n",
            "第21筆資料為數字:\t4561362\t|正確答案為:32717\t模型預估為[15249.068], 四捨五入到[15249.]\n",
            "第22筆資料為數字:\t4263072\t|正確答案為:31204\t模型預估為[7343.133], 四捨五入到[7343.]\n",
            "第23筆資料為數字:\t4477430\t|正確答案為:19410\t模型預估為[9523.397], 四捨五入到[9523.]\n",
            "第24筆資料為數字:\t4817322\t|正確答案為:30918\t模型預估為[15263.18], 四捨五入到[15263.]\n",
            "第25筆資料為數字:\t4870030\t|正確答案為:23276\t模型預估為[8872.043], 四捨五入到[8872.]\n",
            "第26筆資料為數字:\t4282102\t|正確答案為:15798\t模型預估為[7230.2993], 四捨五入到[7230.]\n",
            "第27筆資料為數字:\t4874976\t|正確答案為:31307\t模型預估為[14714.341], 四捨五入到[14714.]\n",
            "第28筆資料為數字:\t4706630\t|正確答案為:20215\t模型預估為[10545.103], 四捨五入到[10545.]\n",
            "第29筆資料為數字:\t4215008\t|正確答案為:17037\t模型預估為[7230.2993], 四捨五入到[7230.]\n",
            "第30筆資料為數字:\t4023648\t|正確答案為:26490\t模型預估為[7711.4995], 四捨五入到[7711.]\n",
            "第31筆資料為數字:\t4270436\t|正確答案為:14456\t模型預估為[7783.724], 四捨五入到[7784.]\n",
            "第32筆資料為數字:\t4833296\t|正確答案為:17861\t模型預估為[8657.021], 四捨五入到[8657.]\n",
            "第33筆資料為數字:\t4047740\t|正確答案為:17657\t模型預估為[8968.159], 四捨五入到[8968.]\n",
            "第34筆資料為數字:\t4737856\t|正確答案為:15340\t模型預估為[9523.397], 四捨五入到[9523.]\n",
            "第35筆資料為數字:\t4653712\t|正確答案為:18648\t模型預估為[8657.021], 四捨五入到[8657.]\n",
            "第36筆資料為數字:\t4170488\t|正確答案為:16372\t模型預估為[7492.78], 四捨五入到[7493.]\n",
            "第37筆資料為數字:\t4264218\t|正確答案為:34817\t模型預估為[13948.29], 四捨五入到[13948.]\n",
            "第38筆資料為數字:\t4166062\t|正確答案為:13763\t模型預估為[13948.29], 四捨五入到[13948.]\n",
            "第39筆資料為數字:\t4951794\t|正確答案為:34670\t模型預估為[7919.961], 四捨五入到[7920.]\n",
            "第40筆資料為數字:\t4790492\t|正確答案為:19071\t模型預估為[13948.29], 四捨五入到[13948.]\n",
            "第41筆資料為數字:\t4604856\t|正確答案為:29963\t模型預估為[9523.397], 四捨五入到[9523.]\n",
            "第42筆資料為數字:\t4704764\t|正確答案為:15154\t模型預估為[9523.397], 四捨五入到[9523.]\n",
            "第43筆資料為數字:\t4411002\t|正確答案為:30274\t模型預估為[7230.2993], 四捨五入到[7230.]\n",
            "第44筆資料為數字:\t4347996\t|正確答案為:28296\t模型預估為[8657.021], 四捨五入到[8657.]\n",
            "第45筆資料為數字:\t4439012\t|正確答案為:14357\t模型預估為[7230.2993], 四捨五入到[7230.]\n",
            "第46筆資料為數字:\t4628068\t|正確答案為:14977\t模型預估為[17331.893], 四捨五入到[17332.]\n",
            "第47筆資料為數字:\t4788616\t|正確答案為:18535\t模型預估為[7230.2993], 四捨五入到[7230.]\n",
            "第48筆資料為數字:\t4158576\t|正確答案為:27127\t模型預估為[7230.2993], 四捨五入到[7230.]\n",
            "第49筆資料為數字:\t4920400\t|正確答案為:20936\t模型預估為[8124.3784], 四捨五入到[8124.]\n"
          ]
        }
      ]
    },
    {
      "cell_type": "code",
      "source": [
        "print (\"\\t正確答案  \"  , \"\\t/\" ,\"  \\t模型預測\")\n",
        "for index, number in enumerate(testDataNumbers):\n",
        "  print (f\"{index}\\t{testDataLabel[index]}  \\t\\t/  \\t{roundPredictions[index]} = {testDataLabel[index]/roundPredictions[index]} \")\n",
        "print (\"###########################################################################\")\n",
        "\n",
        "print (\"\\t正確答案  \"  , \"\\t-\" ,\"  \\t模型預測\")\n",
        "for index, number in enumerate(testDataNumbers):\n",
        "  print (f\"{index}\\t{testDataLabel[index]}  \\t\\t-  \\t{roundPredictions[index]} = {testDataLabel[index]-roundPredictions[index]} \")"
      ],
      "metadata": {
        "colab": {
          "base_uri": "https://localhost:8080/"
        },
        "id": "U88QnsT5L0ol",
        "outputId": "ced30036-3f92-4519-e530-672f46a885be"
      },
      "execution_count": null,
      "outputs": [
        {
          "output_type": "stream",
          "name": "stdout",
          "text": [
            "\t正確答案   \t/   \t模型預測\n",
            "0\t16566  \t\t/  \t[7230.] = [2.2912862] \n",
            "1\t31717  \t\t/  \t[7230.] = [4.3868604] \n",
            "2\t14594  \t\t/  \t[7920.] = [1.8426768] \n",
            "3\t14832  \t\t/  \t[7497.] = [1.9783914] \n",
            "4\t15673  \t\t/  \t[7230.] = [2.1677732] \n",
            "5\t16346  \t\t/  \t[8400.] = [1.9459524] \n",
            "6\t13108  \t\t/  \t[16679.] = [0.78589845] \n",
            "7\t18098  \t\t/  \t[7230.] = [2.5031812] \n",
            "8\t31284  \t\t/  \t[13948.] = [2.2429023] \n",
            "9\t42050  \t\t/  \t[13948.] = [3.014769] \n",
            "10\t15623  \t\t/  \t[19052.] = [0.8200189] \n",
            "11\t15886  \t\t/  \t[15414.] = [1.0306215] \n",
            "12\t28364  \t\t/  \t[8657.] = [3.2764237] \n",
            "13\t14047  \t\t/  \t[13948.] = [1.0070978] \n",
            "14\t14997  \t\t/  \t[7230.] = [2.0742738] \n",
            "15\t22961  \t\t/  \t[10404.] = [2.2069397] \n",
            "16\t16070  \t\t/  \t[7230.] = [2.2226832] \n",
            "17\t13302  \t\t/  \t[8968.] = [1.4832739] \n",
            "18\t13996  \t\t/  \t[8657.] = [1.6167264] \n",
            "19\t15871  \t\t/  \t[13948.] = [1.1378692] \n",
            "20\t15845  \t\t/  \t[13948.] = [1.1360052] \n",
            "21\t32717  \t\t/  \t[15249.] = [2.1455178] \n",
            "22\t31204  \t\t/  \t[7343.] = [4.2494893] \n",
            "23\t19410  \t\t/  \t[9523.] = [2.0382233] \n",
            "24\t30918  \t\t/  \t[15263.] = [2.025683] \n",
            "25\t23276  \t\t/  \t[8872.] = [2.6235347] \n",
            "26\t15798  \t\t/  \t[7230.] = [2.1850622] \n",
            "27\t31307  \t\t/  \t[14714.] = [2.1277015] \n",
            "28\t20215  \t\t/  \t[10545.] = [1.9170222] \n",
            "29\t17037  \t\t/  \t[7230.] = [2.3564315] \n",
            "30\t26490  \t\t/  \t[7711.] = [3.435352] \n",
            "31\t14456  \t\t/  \t[7784.] = [1.8571428] \n",
            "32\t17861  \t\t/  \t[8657.] = [2.063186] \n",
            "33\t17657  \t\t/  \t[8968.] = [1.9688894] \n",
            "34\t15340  \t\t/  \t[9523.] = [1.6108369] \n",
            "35\t18648  \t\t/  \t[8657.] = [2.154095] \n",
            "36\t16372  \t\t/  \t[7493.] = [2.1849725] \n",
            "37\t34817  \t\t/  \t[13948.] = [2.4962] \n",
            "38\t13763  \t\t/  \t[13948.] = [0.9867365] \n",
            "39\t34670  \t\t/  \t[7920.] = [4.3775253] \n",
            "40\t19071  \t\t/  \t[13948.] = [1.3672928] \n",
            "41\t29963  \t\t/  \t[9523.] = [3.1463823] \n",
            "42\t15154  \t\t/  \t[9523.] = [1.5913053] \n",
            "43\t30274  \t\t/  \t[7230.] = [4.1872754] \n",
            "44\t28296  \t\t/  \t[8657.] = [3.2685688] \n",
            "45\t14357  \t\t/  \t[7230.] = [1.9857538] \n",
            "46\t14977  \t\t/  \t[17332.] = [0.8641242] \n",
            "47\t18535  \t\t/  \t[7230.] = [2.563624] \n",
            "48\t27127  \t\t/  \t[7230.] = [3.7520056] \n",
            "49\t20936  \t\t/  \t[8124.] = [2.5770557] \n",
            "###########################################################################\n",
            "\t正確答案   \t-   \t模型預測\n",
            "0\t16566  \t\t-  \t[7230.] = [9336.] \n",
            "1\t31717  \t\t-  \t[7230.] = [24487.] \n",
            "2\t14594  \t\t-  \t[7920.] = [6674.] \n",
            "3\t14832  \t\t-  \t[7497.] = [7335.] \n",
            "4\t15673  \t\t-  \t[7230.] = [8443.] \n",
            "5\t16346  \t\t-  \t[8400.] = [7946.] \n",
            "6\t13108  \t\t-  \t[16679.] = [-3571.] \n",
            "7\t18098  \t\t-  \t[7230.] = [10868.] \n",
            "8\t31284  \t\t-  \t[13948.] = [17336.] \n",
            "9\t42050  \t\t-  \t[13948.] = [28102.] \n",
            "10\t15623  \t\t-  \t[19052.] = [-3429.] \n",
            "11\t15886  \t\t-  \t[15414.] = [472.] \n",
            "12\t28364  \t\t-  \t[8657.] = [19707.] \n",
            "13\t14047  \t\t-  \t[13948.] = [99.] \n",
            "14\t14997  \t\t-  \t[7230.] = [7767.] \n",
            "15\t22961  \t\t-  \t[10404.] = [12557.] \n",
            "16\t16070  \t\t-  \t[7230.] = [8840.] \n",
            "17\t13302  \t\t-  \t[8968.] = [4334.] \n",
            "18\t13996  \t\t-  \t[8657.] = [5339.] \n",
            "19\t15871  \t\t-  \t[13948.] = [1923.] \n",
            "20\t15845  \t\t-  \t[13948.] = [1897.] \n",
            "21\t32717  \t\t-  \t[15249.] = [17468.] \n",
            "22\t31204  \t\t-  \t[7343.] = [23861.] \n",
            "23\t19410  \t\t-  \t[9523.] = [9887.] \n",
            "24\t30918  \t\t-  \t[15263.] = [15655.] \n",
            "25\t23276  \t\t-  \t[8872.] = [14404.] \n",
            "26\t15798  \t\t-  \t[7230.] = [8568.] \n",
            "27\t31307  \t\t-  \t[14714.] = [16593.] \n",
            "28\t20215  \t\t-  \t[10545.] = [9670.] \n",
            "29\t17037  \t\t-  \t[7230.] = [9807.] \n",
            "30\t26490  \t\t-  \t[7711.] = [18779.] \n",
            "31\t14456  \t\t-  \t[7784.] = [6672.] \n",
            "32\t17861  \t\t-  \t[8657.] = [9204.] \n",
            "33\t17657  \t\t-  \t[8968.] = [8689.] \n",
            "34\t15340  \t\t-  \t[9523.] = [5817.] \n",
            "35\t18648  \t\t-  \t[8657.] = [9991.] \n",
            "36\t16372  \t\t-  \t[7493.] = [8879.] \n",
            "37\t34817  \t\t-  \t[13948.] = [20869.] \n",
            "38\t13763  \t\t-  \t[13948.] = [-185.] \n",
            "39\t34670  \t\t-  \t[7920.] = [26750.] \n",
            "40\t19071  \t\t-  \t[13948.] = [5123.] \n",
            "41\t29963  \t\t-  \t[9523.] = [20440.] \n",
            "42\t15154  \t\t-  \t[9523.] = [5631.] \n",
            "43\t30274  \t\t-  \t[7230.] = [23044.] \n",
            "44\t28296  \t\t-  \t[8657.] = [19639.] \n",
            "45\t14357  \t\t-  \t[7230.] = [7127.] \n",
            "46\t14977  \t\t-  \t[17332.] = [-2355.] \n",
            "47\t18535  \t\t-  \t[7230.] = [11305.] \n",
            "48\t27127  \t\t-  \t[7230.] = [19897.] \n",
            "49\t20936  \t\t-  \t[8124.] = [12812.] \n"
          ]
        }
      ]
    },
    {
      "cell_type": "code",
      "source": [
        "print (\"模型預測差距\")\n",
        "for index, number in enumerate(testDataNumbers):\n",
        "  print (int(testDataLabel[index]-roundPredictions[index]))"
      ],
      "metadata": {
        "id": "48aQwcS1L_Di",
        "colab": {
          "base_uri": "https://localhost:8080/"
        },
        "outputId": "09e3c6b0-cea3-4260-a616-1947e1ce4511"
      },
      "execution_count": null,
      "outputs": [
        {
          "output_type": "stream",
          "name": "stdout",
          "text": [
            "模型預測差距\n",
            "9336\n",
            "24487\n",
            "6674\n",
            "7335\n",
            "8443\n",
            "7946\n",
            "-3571\n",
            "10868\n",
            "17336\n",
            "28102\n",
            "-3429\n",
            "472\n",
            "19707\n",
            "99\n",
            "7767\n",
            "12557\n",
            "8840\n",
            "4334\n",
            "5339\n",
            "1923\n",
            "1897\n",
            "17468\n",
            "23861\n",
            "9887\n",
            "15655\n",
            "14404\n",
            "8568\n",
            "16593\n",
            "9670\n",
            "9807\n",
            "18779\n",
            "6672\n",
            "9204\n",
            "8689\n",
            "5817\n",
            "9991\n",
            "8879\n",
            "20869\n",
            "-185\n",
            "26750\n",
            "5123\n",
            "20440\n",
            "5631\n",
            "23044\n",
            "19639\n",
            "7127\n",
            "-2355\n",
            "11305\n",
            "19897\n",
            "12812\n"
          ]
        }
      ]
    },
    {
      "cell_type": "code",
      "source": [
        "print (\"模型預測\")\n",
        "for index, number in enumerate(testDataNumbers):\n",
        "  print (int(roundPredictions[index]))"
      ],
      "metadata": {
        "id": "JqxlmzVbuYrJ",
        "colab": {
          "base_uri": "https://localhost:8080/"
        },
        "outputId": "802b57f1-4c9c-48fd-f0b2-e5a11e7dff13"
      },
      "execution_count": null,
      "outputs": [
        {
          "output_type": "stream",
          "name": "stdout",
          "text": [
            "模型預測\n",
            "7230\n",
            "7230\n",
            "7920\n",
            "7497\n",
            "7230\n",
            "8400\n",
            "16679\n",
            "7230\n",
            "13948\n",
            "13948\n",
            "19052\n",
            "15414\n",
            "8657\n",
            "13948\n",
            "7230\n",
            "10404\n",
            "7230\n",
            "8968\n",
            "8657\n",
            "13948\n",
            "13948\n",
            "15249\n",
            "7343\n",
            "9523\n",
            "15263\n",
            "8872\n",
            "7230\n",
            "14714\n",
            "10545\n",
            "7230\n",
            "7711\n",
            "7784\n",
            "8657\n",
            "8968\n",
            "9523\n",
            "8657\n",
            "7493\n",
            "13948\n",
            "13948\n",
            "7920\n",
            "13948\n",
            "9523\n",
            "9523\n",
            "7230\n",
            "8657\n",
            "7230\n",
            "17332\n",
            "7230\n",
            "7230\n",
            "8124\n"
          ]
        }
      ]
    },
    {
      "cell_type": "code",
      "source": [],
      "metadata": {
        "id": "GlUSkPpvXC6_"
      },
      "execution_count": null,
      "outputs": []
    }
  ]
}